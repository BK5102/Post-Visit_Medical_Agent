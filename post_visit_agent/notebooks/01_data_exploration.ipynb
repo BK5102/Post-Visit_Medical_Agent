{
 "cells": [
  {
   "cell_type": "markdown",
   "id": "26c96f9c",
   "metadata": {},
   "source": [
    "# 01 - Data Exploration"
   ]
  },
  {
   "cell_type": "markdown",
   "id": "c71b777f",
   "metadata": {},
   "source": [
    "### two core datasets are explored"
   ]
  },
  {
   "cell_type": "markdown",
   "id": "1f07d812",
   "metadata": {},
   "source": [
    "#### - `samples_labeled.csv` — texts with assigned task labels\n",
    "#### - `glossary.csv` — glossary terms and their simplified meanings\n"
   ]
  },
  {
   "cell_type": "code",
   "execution_count": null,
   "id": "3e50762c",
   "metadata": {},
   "outputs": [],
   "source": [
    "import pandas as pd\n",
    "import numpy as np\n",
    "import matplotlib.pyplot as plt"
   ]
  },
  {
   "cell_type": "markdown",
   "id": "210bfab4",
   "metadata": {},
   "source": [
    "#### Dataset Summary"
   ]
  },
  {
   "cell_type": "code",
   "execution_count": null,
   "id": "11489425",
   "metadata": {},
   "outputs": [],
   "source": [
    "samples_df = pd.read_csv('../data/samples_labeled.csv')\n",
    "glossary_df = pd.read_csv('../data/glossary.csv')\n",
    "\n",
    "print(samples_df.shape)\n",
    "print(glossary_df.shape)"
   ]
  },
  {
   "cell_type": "code",
   "execution_count": null,
   "id": "e06eecc0",
   "metadata": {},
   "outputs": [],
   "source": [
    "samples_df.head()\n",
    "glossary_df.head()"
   ]
  },
  {
   "cell_type": "code",
   "execution_count": null,
   "id": "6d76f7c7",
   "metadata": {},
   "outputs": [],
   "source": [
    "samples_df.describe()\n",
    "glossary_df.describe()"
   ]
  },
  {
   "cell_type": "code",
   "execution_count": null,
   "id": "26bc64e4",
   "metadata": {},
   "outputs": [],
   "source": [
    "samples_df.info()\n",
    "glossary_df.info()\n"
   ]
  },
  {
   "cell_type": "code",
   "execution_count": null,
   "id": "db96941a",
   "metadata": {},
   "outputs": [],
   "source": [
    "samples_df.columns"
   ]
  },
  {
   "cell_type": "code",
   "execution_count": null,
   "id": "de8a3929",
   "metadata": {},
   "outputs": [],
   "source": [
    "glossary_df.columns"
   ]
  },
  {
   "cell_type": "markdown",
   "id": "328cd8f4",
   "metadata": {},
   "source": [
    "##### check for null and duplicate values"
   ]
  },
  {
   "cell_type": "code",
   "execution_count": null,
   "id": "941d82b0",
   "metadata": {},
   "outputs": [],
   "source": [
    "print(\"Samples nulls:\\n\", samples_df.isnull().sum())\n",
    "print(\"Glossary nulls:\\n\", glossary_df.isnull().sum())\n",
    "\n",
    "print(\"Duplicate sentences:\", samples_df.duplicated().sum())\n",
    "print(\"Duplicate glossary terms:\", glossary_df.duplicated().sum())"
   ]
  },
  {
   "cell_type": "markdown",
   "id": "be7070c1",
   "metadata": {},
   "source": [
    "##### check for and drop missing values"
   ]
  },
  {
   "cell_type": "code",
   "execution_count": null,
   "id": "bd01ff82",
   "metadata": {},
   "outputs": [],
   "source": [
    "# Check for missing values\n",
    "samples_df.isnull().sum()\n",
    "\n",
    "# Drop rows/columns with missing values\n",
    "samples_df.dropna(inplace=True)\n",
    "\n",
    "# Fill missing values\n",
    "samples_df.fillna(value=0, inplace=True)  # numeric\n",
    "samples_df['sentence'].fillna('Unknown', inplace=True)\n"
   ]
  },
  {
   "cell_type": "code",
   "execution_count": null,
   "id": "5e2c7260",
   "metadata": {},
   "outputs": [],
   "source": [
    "# Check for missing values\n",
    "glossary_df.isnull().sum()\n",
    "\n",
    "# Drop rows/columns with missing values\n",
    "glossary_df.dropna(inplace=True)\n",
    "\n",
    "# Fill missing values\n",
    "glossary_df.fillna(value=0, inplace=True)  # numeric\n",
    "glossary_df['term'].fillna('Unknown', inplace=True)\n"
   ]
  },
  {
   "cell_type": "markdown",
   "id": "d25a5a5f",
   "metadata": {},
   "source": [
    "##### samples_labeled Analysis"
   ]
  },
  {
   "cell_type": "code",
   "execution_count": 56,
   "id": "dc85f590",
   "metadata": {},
   "outputs": [
    {
     "data": {
      "text/plain": [
       "sentence    Install a medication reminder app\n",
       "category                             reminder\n",
       "Name: 36, dtype: object"
      ]
     },
     "execution_count": 56,
     "metadata": {},
     "output_type": "execute_result"
    }
   ],
   "source": [
    "samples_df.loc[samples_df['sentence'].str.len().idxmax()]\n",
    "samples_df.loc[samples_df['sentence'].str.len().idxmin()]"
   ]
  },
  {
   "cell_type": "code",
   "execution_count": 57,
   "id": "bf539f02",
   "metadata": {},
   "outputs": [
    {
     "name": "stdout",
     "output_type": "stream",
     "text": [
      "<class 'pandas.core.frame.DataFrame'>\n",
      "RangeIndex: 50 entries, 0 to 49\n",
      "Data columns (total 2 columns):\n",
      " #   Column    Non-Null Count  Dtype \n",
      "---  ------    --------------  ----- \n",
      " 0   sentence  50 non-null     object\n",
      " 1   category  50 non-null     object\n",
      "dtypes: object(2)\n",
      "memory usage: 932.0+ bytes\n"
     ]
    },
    {
     "data": {
      "text/plain": [
       "count    50.000000\n",
       "mean     45.080000\n",
       "std       6.442334\n",
       "min      33.000000\n",
       "25%      41.000000\n",
       "50%      44.000000\n",
       "75%      49.000000\n",
       "max      61.000000\n",
       "Name: sentence, dtype: float64"
      ]
     },
     "execution_count": 57,
     "metadata": {},
     "output_type": "execute_result"
    }
   ],
   "source": [
    "samples_df.info()\n",
    "samples_df['category'].value_counts()\n",
    "samples_df['sentence'].str.len().describe()"
   ]
  },
  {
   "cell_type": "markdown",
   "id": "f265c4ff",
   "metadata": {},
   "source": [
    "##### Label Distribution"
   ]
  },
  {
   "cell_type": "code",
   "execution_count": 58,
   "id": "0c42a584",
   "metadata": {},
   "outputs": [
    {
     "data": {
      "image/png": "[encoded data removed]",
      "text/plain": [
       "<Figure size 640x480 with 1 Axes>"
      ]
     },
     "metadata": {},
     "output_type": "display_data"
    },
    {
     "data": {
      "text/plain": [
       "<Figure size 640x480 with 0 Axes>"
      ]
     },
     "metadata": {},
     "output_type": "display_data"
    }
   ],
   "source": [
    "import matplotlib.pyplot as plt\n",
    "\n",
    "samples_df['category'].value_counts().plot(kind='bar', title='Category Distribution')\n",
    "plt.ylabel('Frequency')\n",
    "plt.show()\n",
    "plt.savefig('../visualizations/category_distribution.png')\n"
   ]
  },
  {
   "cell_type": "markdown",
   "id": "a3103802",
   "metadata": {},
   "source": [
    "#### glossary Analysis"
   ]
  },
  {
   "cell_type": "code",
   "execution_count": 60,
   "id": "55fd4dc3",
   "metadata": {},
   "outputs": [
    {
     "data": {
      "image/png": "[encoded data removed]",
      "text/plain": [
       "<Figure size 640x480 with 1 Axes>"
      ]
     },
     "metadata": {},
     "output_type": "display_data"
    },
    {
     "name": "stderr",
     "output_type": "stream",
     "text": [
      "C:\\Users\\Kannan\\AppData\\Local\\Temp\\ipykernel_3152\\1531913541.py:6: DeprecationWarning: DataFrameGroupBy.apply operated on the grouping columns. This behavior is deprecated, and in a future version of pandas the grouping columns will be excluded from the operation. Either pass `include_groups=False` to exclude the groupings or explicitly select the grouping columns after groupby to silence this warning.\n",
      "  glossary_df.groupby('term').apply(lambda x: x.sample(n=min(3, len(x)))).reset_index(drop=True)\n"
     ]
    },
    {
     "data": {
      "text/html": [
       "<div>\n",
       "<style scoped>\n",
       "    .dataframe tbody tr th:only-of-type {\n",
       "        vertical-align: middle;\n",
       "    }\n",
       "\n",
       "    .dataframe tbody tr th {\n",
       "        vertical-align: top;\n",
       "    }\n",
       "\n",
       "    .dataframe thead th {\n",
       "        text-align: right;\n",
       "    }\n",
       "</style>\n",
       "<table border=\"1\" class=\"dataframe\">\n",
       "  <thead>\n",
       "    <tr style=\"text-align: right;\">\n",
       "      <th></th>\n",
       "      <th>term</th>\n",
       "      <th>description</th>\n",
       "    </tr>\n",
       "  </thead>\n",
       "  <tbody>\n",
       "    <tr>\n",
       "      <th>0</th>\n",
       "      <td>Added sugars</td>\n",
       "      <td>Sugars added to foods that can lead to weight ...</td>\n",
       "    </tr>\n",
       "    <tr>\n",
       "      <th>1</th>\n",
       "      <td>Albuterol</td>\n",
       "      <td>A medication used to relieve asthma symptoms</td>\n",
       "    </tr>\n",
       "    <tr>\n",
       "      <th>2</th>\n",
       "      <td>Amlodipine</td>\n",
       "      <td>A medication used to treat high blood pressure...</td>\n",
       "    </tr>\n",
       "    <tr>\n",
       "      <th>3</th>\n",
       "      <td>Antioxidants</td>\n",
       "      <td>Compounds in foods that protect cells from damage</td>\n",
       "    </tr>\n",
       "    <tr>\n",
       "      <th>4</th>\n",
       "      <td>Aspirin</td>\n",
       "      <td>Used in low doses to prevent heart attacks and...</td>\n",
       "    </tr>\n",
       "    <tr>\n",
       "      <th>5</th>\n",
       "      <td>Atorvastatin</td>\n",
       "      <td>A medication used to lower cholesterol levels</td>\n",
       "    </tr>\n",
       "    <tr>\n",
       "      <th>6</th>\n",
       "      <td>Calcium-rich foods</td>\n",
       "      <td>Foods that help maintain strong bones, like da...</td>\n",
       "    </tr>\n",
       "    <tr>\n",
       "      <th>7</th>\n",
       "      <td>Cognitive Behavioral Therapy</td>\n",
       "      <td>A talk therapy for managing anxiety, depressio...</td>\n",
       "    </tr>\n",
       "    <tr>\n",
       "      <th>8</th>\n",
       "      <td>Fermented foods</td>\n",
       "      <td>Foods like yogurt and kimchi that support gut ...</td>\n",
       "    </tr>\n",
       "    <tr>\n",
       "      <th>9</th>\n",
       "      <td>Fiber</td>\n",
       "      <td>Carbohydrate that helps digestion and controls...</td>\n",
       "    </tr>\n",
       "    <tr>\n",
       "      <th>10</th>\n",
       "      <td>Follow-up</td>\n",
       "      <td>A scheduled check or appointment after initial...</td>\n",
       "    </tr>\n",
       "    <tr>\n",
       "      <th>11</th>\n",
       "      <td>Glipizide</td>\n",
       "      <td>An oral diabetes medication that helps release...</td>\n",
       "    </tr>\n",
       "    <tr>\n",
       "      <th>12</th>\n",
       "      <td>Glycemic index</td>\n",
       "      <td>A measure of how quickly a food raises blood s...</td>\n",
       "    </tr>\n",
       "    <tr>\n",
       "      <th>13</th>\n",
       "      <td>Health tracker</td>\n",
       "      <td>A digital tool to log meals, activity, or symp...</td>\n",
       "    </tr>\n",
       "    <tr>\n",
       "      <th>14</th>\n",
       "      <td>Hydration</td>\n",
       "      <td>Maintaining fluid balance by drinking sufficie...</td>\n",
       "    </tr>\n",
       "    <tr>\n",
       "      <th>15</th>\n",
       "      <td>Hydrochlorothiazide</td>\n",
       "      <td>A diuretic used to treat high blood pressure a...</td>\n",
       "    </tr>\n",
       "    <tr>\n",
       "      <th>16</th>\n",
       "      <td>Insulin</td>\n",
       "      <td>A hormone used to regulate blood sugar, especi...</td>\n",
       "    </tr>\n",
       "    <tr>\n",
       "      <th>17</th>\n",
       "      <td>Intermittent fasting</td>\n",
       "      <td>An eating pattern that cycles between fasting ...</td>\n",
       "    </tr>\n",
       "    <tr>\n",
       "      <th>18</th>\n",
       "      <td>Leafy vegetables</td>\n",
       "      <td>Vegetables like spinach and kale that are rich...</td>\n",
       "    </tr>\n",
       "    <tr>\n",
       "      <th>19</th>\n",
       "      <td>Levothyroxine</td>\n",
       "      <td>A hormone replacement for treating hypothyroidism</td>\n",
       "    </tr>\n",
       "    <tr>\n",
       "      <th>20</th>\n",
       "      <td>Lisinopril</td>\n",
       "      <td>A drug used to treat high blood pressure and h...</td>\n",
       "    </tr>\n",
       "    <tr>\n",
       "      <th>21</th>\n",
       "      <td>Losartan</td>\n",
       "      <td>A medication used to treat high blood pressure...</td>\n",
       "    </tr>\n",
       "    <tr>\n",
       "      <th>22</th>\n",
       "      <td>Low-sodium diet</td>\n",
       "      <td>A diet with reduced salt intake to control blo...</td>\n",
       "    </tr>\n",
       "    <tr>\n",
       "      <th>23</th>\n",
       "      <td>Medication reminder</td>\n",
       "      <td>A prompt to help remember when to take medicat...</td>\n",
       "    </tr>\n",
       "    <tr>\n",
       "      <th>24</th>\n",
       "      <td>Metformin</td>\n",
       "      <td>A drug used to manage high blood sugar in type...</td>\n",
       "    </tr>\n",
       "    <tr>\n",
       "      <th>25</th>\n",
       "      <td>Mindfulness</td>\n",
       "      <td>A mental practice that involves focusing on th...</td>\n",
       "    </tr>\n",
       "    <tr>\n",
       "      <th>26</th>\n",
       "      <td>Omega-3 fatty acids</td>\n",
       "      <td>Healthy fats found in fish and flaxseeds that ...</td>\n",
       "    </tr>\n",
       "    <tr>\n",
       "      <th>27</th>\n",
       "      <td>Omeprazole</td>\n",
       "      <td>A medication used to treat acid reflux and sto...</td>\n",
       "    </tr>\n",
       "    <tr>\n",
       "      <th>28</th>\n",
       "      <td>Physical therapy</td>\n",
       "      <td>A rehab therapy to restore movement and reduce...</td>\n",
       "    </tr>\n",
       "    <tr>\n",
       "      <th>29</th>\n",
       "      <td>Plant-based diet</td>\n",
       "      <td>A diet focusing on vegetables, fruits, legumes...</td>\n",
       "    </tr>\n",
       "    <tr>\n",
       "      <th>30</th>\n",
       "      <td>Portion control</td>\n",
       "      <td>Managing the quantity of food consumed to main...</td>\n",
       "    </tr>\n",
       "    <tr>\n",
       "      <th>31</th>\n",
       "      <td>Prednisone</td>\n",
       "      <td>A corticosteroid used to reduce inflammation i...</td>\n",
       "    </tr>\n",
       "    <tr>\n",
       "      <th>32</th>\n",
       "      <td>Probiotic supplement</td>\n",
       "      <td>Used to promote gut health and restore healthy...</td>\n",
       "    </tr>\n",
       "    <tr>\n",
       "      <th>33</th>\n",
       "      <td>Processed foods</td>\n",
       "      <td>Foods with added preservatives or ingredients,...</td>\n",
       "    </tr>\n",
       "    <tr>\n",
       "      <th>34</th>\n",
       "      <td>Saturated fat</td>\n",
       "      <td>Type of fat that raises cholesterol and increa...</td>\n",
       "    </tr>\n",
       "    <tr>\n",
       "      <th>35</th>\n",
       "      <td>Simvastatin</td>\n",
       "      <td>A statin used to lower bad cholesterol and tri...</td>\n",
       "    </tr>\n",
       "    <tr>\n",
       "      <th>36</th>\n",
       "      <td>Trans fats</td>\n",
       "      <td>Unhealthy fats found in fried and baked goods ...</td>\n",
       "    </tr>\n",
       "    <tr>\n",
       "      <th>37</th>\n",
       "      <td>Warfarin</td>\n",
       "      <td>A blood thinner used to prevent blood clots</td>\n",
       "    </tr>\n",
       "    <tr>\n",
       "      <th>38</th>\n",
       "      <td>Whole grains</td>\n",
       "      <td>Foods like brown rice and oats that support he...</td>\n",
       "    </tr>\n",
       "  </tbody>\n",
       "</table>\n",
       "</div>"
      ],
      "text/plain": [
       "                            term  \\\n",
       "0                   Added sugars   \n",
       "1                      Albuterol   \n",
       "2                     Amlodipine   \n",
       "3                   Antioxidants   \n",
       "4                        Aspirin   \n",
       "5                   Atorvastatin   \n",
       "6             Calcium-rich foods   \n",
       "7   Cognitive Behavioral Therapy   \n",
       "8                Fermented foods   \n",
       "9                          Fiber   \n",
       "10                     Follow-up   \n",
       "11                     Glipizide   \n",
       "12                Glycemic index   \n",
       "13                Health tracker   \n",
       "14                     Hydration   \n",
       "15           Hydrochlorothiazide   \n",
       "16                       Insulin   \n",
       "17          Intermittent fasting   \n",
       "18              Leafy vegetables   \n",
       "19                 Levothyroxine   \n",
       "20                    Lisinopril   \n",
       "21                      Losartan   \n",
       "22               Low-sodium diet   \n",
       "23           Medication reminder   \n",
       "24                     Metformin   \n",
       "25                   Mindfulness   \n",
       "26           Omega-3 fatty acids   \n",
       "27                    Omeprazole   \n",
       "28              Physical therapy   \n",
       "29              Plant-based diet   \n",
       "30               Portion control   \n",
       "31                    Prednisone   \n",
       "32          Probiotic supplement   \n",
       "33               Processed foods   \n",
       "34                 Saturated fat   \n",
       "35                   Simvastatin   \n",
       "36                    Trans fats   \n",
       "37                      Warfarin   \n",
       "38                  Whole grains   \n",
       "\n",
       "                                          description  \n",
       "0   Sugars added to foods that can lead to weight ...  \n",
       "1        A medication used to relieve asthma symptoms  \n",
       "2   A medication used to treat high blood pressure...  \n",
       "3   Compounds in foods that protect cells from damage  \n",
       "4   Used in low doses to prevent heart attacks and...  \n",
       "5       A medication used to lower cholesterol levels  \n",
       "6   Foods that help maintain strong bones, like da...  \n",
       "7   A talk therapy for managing anxiety, depressio...  \n",
       "8   Foods like yogurt and kimchi that support gut ...  \n",
       "9   Carbohydrate that helps digestion and controls...  \n",
       "10  A scheduled check or appointment after initial...  \n",
       "11  An oral diabetes medication that helps release...  \n",
       "12  A measure of how quickly a food raises blood s...  \n",
       "13  A digital tool to log meals, activity, or symp...  \n",
       "14  Maintaining fluid balance by drinking sufficie...  \n",
       "15  A diuretic used to treat high blood pressure a...  \n",
       "16  A hormone used to regulate blood sugar, especi...  \n",
       "17  An eating pattern that cycles between fasting ...  \n",
       "18  Vegetables like spinach and kale that are rich...  \n",
       "19  A hormone replacement for treating hypothyroidism  \n",
       "20  A drug used to treat high blood pressure and h...  \n",
       "21  A medication used to treat high blood pressure...  \n",
       "22  A diet with reduced salt intake to control blo...  \n",
       "23  A prompt to help remember when to take medicat...  \n",
       "24  A drug used to manage high blood sugar in type...  \n",
       "25  A mental practice that involves focusing on th...  \n",
       "26  Healthy fats found in fish and flaxseeds that ...  \n",
       "27  A medication used to treat acid reflux and sto...  \n",
       "28  A rehab therapy to restore movement and reduce...  \n",
       "29  A diet focusing on vegetables, fruits, legumes...  \n",
       "30  Managing the quantity of food consumed to main...  \n",
       "31  A corticosteroid used to reduce inflammation i...  \n",
       "32  Used to promote gut health and restore healthy...  \n",
       "33  Foods with added preservatives or ingredients,...  \n",
       "34  Type of fat that raises cholesterol and increa...  \n",
       "35  A statin used to lower bad cholesterol and tri...  \n",
       "36  Unhealthy fats found in fried and baked goods ...  \n",
       "37        A blood thinner used to prevent blood clots  \n",
       "38  Foods like brown rice and oats that support he...  "
      ]
     },
     "execution_count": 60,
     "metadata": {},
     "output_type": "execute_result"
    }
   ],
   "source": [
    "glossary_df['term'].value_counts().plot(kind='bar', title='Glossary Term Categories')\n",
    "plt.ylabel('Count')\n",
    "plt.show()\n",
    "\n",
    "# Show a few entries per category\n",
    "glossary_df.groupby('term').apply(lambda x: x.sample(n=min(3, len(x)))).reset_index(drop=True)\n"
   ]
  },
  {
   "cell_type": "markdown",
   "id": "18827c49",
   "metadata": {},
   "source": [
    "##### glossary Term Coverage in samples_labeled"
   ]
  },
  {
   "cell_type": "code",
   "execution_count": 62,
   "id": "0a5e0429",
   "metadata": {},
   "outputs": [
    {
     "data": {
      "text/plain": [
       "count    50.000000\n",
       "mean      0.340000\n",
       "std       0.478518\n",
       "min       0.000000\n",
       "25%       0.000000\n",
       "50%       0.000000\n",
       "75%       1.000000\n",
       "max       1.000000\n",
       "Name: glossary_matches, dtype: float64"
      ]
     },
     "execution_count": 62,
     "metadata": {},
     "output_type": "execute_result"
    }
   ],
   "source": [
    "# Count how many glossary terms are matched in each sample text\n",
    "glossary_terms = glossary_df['term'].tolist()\n",
    "\n",
    "def count_term_matches(text):\n",
    "    return sum(1 for term in glossary_terms if term.lower() in text.lower())\n",
    "\n",
    "samples_df['glossary_matches'] = samples_df['sentence'].apply(count_term_matches)\n",
    "samples_df['glossary_matches'].describe()\n"
   ]
  },
  {
   "cell_type": "markdown",
   "id": "aaa3bd56",
   "metadata": {},
   "source": [
    "##### rows with high and low glossary matches"
   ]
  },
  {
   "cell_type": "code",
   "execution_count": 64,
   "id": "866d2c1e",
   "metadata": {},
   "outputs": [
    {
     "data": {
      "text/html": [
       "<div>\n",
       "<style scoped>\n",
       "    .dataframe tbody tr th:only-of-type {\n",
       "        vertical-align: middle;\n",
       "    }\n",
       "\n",
       "    .dataframe tbody tr th {\n",
       "        vertical-align: top;\n",
       "    }\n",
       "\n",
       "    .dataframe thead th {\n",
       "        text-align: right;\n",
       "    }\n",
       "</style>\n",
       "<table border=\"1\" class=\"dataframe\">\n",
       "  <thead>\n",
       "    <tr style=\"text-align: right;\">\n",
       "      <th></th>\n",
       "      <th>sentence</th>\n",
       "      <th>category</th>\n",
       "    </tr>\n",
       "  </thead>\n",
       "  <tbody>\n",
       "    <tr>\n",
       "      <th>9</th>\n",
       "      <td>Eat fatty fish like salmon twice a week</td>\n",
       "      <td>diet</td>\n",
       "    </tr>\n",
       "    <tr>\n",
       "      <th>37</th>\n",
       "      <td>Use sticky notes as visual medication prompts</td>\n",
       "      <td>reminder</td>\n",
       "    </tr>\n",
       "    <tr>\n",
       "      <th>17</th>\n",
       "      <td>Take your cholesterol medication even if you f...</td>\n",
       "      <td>medication</td>\n",
       "    </tr>\n",
       "  </tbody>\n",
       "</table>\n",
       "</div>"
      ],
      "text/plain": [
       "                                             sentence    category\n",
       "9             Eat fatty fish like salmon twice a week        diet\n",
       "37      Use sticky notes as visual medication prompts    reminder\n",
       "17  Take your cholesterol medication even if you f...  medication"
      ]
     },
     "execution_count": 64,
     "metadata": {},
     "output_type": "execute_result"
    }
   ],
   "source": [
    "# Show a few rows with high and low glossary matches\n",
    "samples_df.sort_values('glossary_matches', ascending=False).head(5)[['sentence', 'category', 'glossary_matches']]\n",
    "samples_df[samples_df['glossary_matches'] == 0].sample(3)[['sentence', 'category']]\n"
   ]
  }
 ],
 "metadata": {
  "kernelspec": {
   "display_name": "Python 3",
   "language": "python",
   "name": "python3"
  },
  "language_info": {
   "codemirror_mode": {
    "name": "ipython",
    "version": 3
   },
   "file_extension": ".py",
   "mimetype": "text/x-python",
   "name": "python",
   "nbconvert_exporter": "python",
   "pygments_lexer": "ipython3",
   "version": "3.12.3"
  }
 },
 "nbformat": 4,
 "nbformat_minor": 5
}
