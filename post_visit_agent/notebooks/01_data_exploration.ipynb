{
 "cells": [
  {
   "cell_type": "markdown",
   "id": "26c96f9c",
   "metadata": {},
   "source": [
    "# 01 - Data Exploration"
   ]
  },
  {
   "cell_type": "markdown",
   "id": "c71b777f",
   "metadata": {},
   "source": [
    "### two core datasets are explored"
   ]
  },
  {
   "cell_type": "markdown",
   "id": "1f07d812",
   "metadata": {},
   "source": [
    "#### - `samples_labeled.csv` — texts with assigned task labels\n",
    "#### - `glossary.csv` — glossary terms and their simplified meanings\n"
   ]
  },
  {
   "cell_type": "code",
   "execution_count": 11,
   "id": "3e50762c",
   "metadata": {},
   "outputs": [],
   "source": [
    "import pandas as pd\n",
    "import numpy as np\n",
    "import matplotlib.pyplot as plt"
   ]
  },
  {
   "cell_type": "code",
   "execution_count": 14,
   "id": "11489425",
   "metadata": {},
   "outputs": [
    {
     "name": "stdout",
     "output_type": "stream",
     "text": [
      "(50, 2)\n",
      "(39, 2)\n"
     ]
    }
   ],
   "source": [
    "samples_df = pd.read_csv('../data/samples_labeled.csv')\n",
    "glossary_df = pd.read_csv('../data/glossary.csv')\n",
    "\n",
    "print(samples_df.shape)\n",
    "print(glossary_df.shape)"
   ]
  },
  {
   "cell_type": "code",
   "execution_count": 15,
   "id": "e06eecc0",
   "metadata": {},
   "outputs": [
    {
     "data": {
      "text/html": [
       "<div>\n",
       "<style scoped>\n",
       "    .dataframe tbody tr th:only-of-type {\n",
       "        vertical-align: middle;\n",
       "    }\n",
       "\n",
       "    .dataframe tbody tr th {\n",
       "        vertical-align: top;\n",
       "    }\n",
       "\n",
       "    .dataframe thead th {\n",
       "        text-align: right;\n",
       "    }\n",
       "</style>\n",
       "<table border=\"1\" class=\"dataframe\">\n",
       "  <thead>\n",
       "    <tr style=\"text-align: right;\">\n",
       "      <th></th>\n",
       "      <th>sentence</th>\n",
       "      <th>category</th>\n",
       "    </tr>\n",
       "  </thead>\n",
       "  <tbody>\n",
       "    <tr>\n",
       "      <th>0</th>\n",
       "      <td>Include more whole grains and legumes in your ...</td>\n",
       "      <td>diet</td>\n",
       "    </tr>\n",
       "    <tr>\n",
       "      <th>1</th>\n",
       "      <td>Avoid sugary snacks and processed desserts</td>\n",
       "      <td>diet</td>\n",
       "    </tr>\n",
       "    <tr>\n",
       "      <th>2</th>\n",
       "      <td>Eat green leafy vegetables daily to reduce cho...</td>\n",
       "      <td>diet</td>\n",
       "    </tr>\n",
       "    <tr>\n",
       "      <th>3</th>\n",
       "      <td>Reduce salt and saturated fat intake</td>\n",
       "      <td>diet</td>\n",
       "    </tr>\n",
       "    <tr>\n",
       "      <th>4</th>\n",
       "      <td>Add omega-3 rich foods like flaxseed to your diet</td>\n",
       "      <td>diet</td>\n",
       "    </tr>\n",
       "  </tbody>\n",
       "</table>\n",
       "</div>"
      ],
      "text/plain": [
       "                                            sentence category\n",
       "0  Include more whole grains and legumes in your ...     diet\n",
       "1         Avoid sugary snacks and processed desserts     diet\n",
       "2  Eat green leafy vegetables daily to reduce cho...     diet\n",
       "3               Reduce salt and saturated fat intake     diet\n",
       "4  Add omega-3 rich foods like flaxseed to your diet     diet"
      ]
     },
     "execution_count": 15,
     "metadata": {},
     "output_type": "execute_result"
    }
   ],
   "source": [
    "samples_df.head()\n"
   ]
  },
  {
   "cell_type": "code",
   "execution_count": 16,
   "id": "9aba9f1e",
   "metadata": {},
   "outputs": [
    {
     "data": {
      "text/html": [
       "<div>\n",
       "<style scoped>\n",
       "    .dataframe tbody tr th:only-of-type {\n",
       "        vertical-align: middle;\n",
       "    }\n",
       "\n",
       "    .dataframe tbody tr th {\n",
       "        vertical-align: top;\n",
       "    }\n",
       "\n",
       "    .dataframe thead th {\n",
       "        text-align: right;\n",
       "    }\n",
       "</style>\n",
       "<table border=\"1\" class=\"dataframe\">\n",
       "  <thead>\n",
       "    <tr style=\"text-align: right;\">\n",
       "      <th></th>\n",
       "      <th>term</th>\n",
       "      <th>plain_english_description</th>\n",
       "    </tr>\n",
       "  </thead>\n",
       "  <tbody>\n",
       "    <tr>\n",
       "      <th>0</th>\n",
       "      <td>Whole grains</td>\n",
       "      <td>Foods like brown rice and oats that support he...</td>\n",
       "    </tr>\n",
       "    <tr>\n",
       "      <th>1</th>\n",
       "      <td>Saturated fat</td>\n",
       "      <td>Type of fat that raises cholesterol and increa...</td>\n",
       "    </tr>\n",
       "    <tr>\n",
       "      <th>2</th>\n",
       "      <td>Leafy vegetables</td>\n",
       "      <td>Vegetables like spinach and kale that are rich...</td>\n",
       "    </tr>\n",
       "    <tr>\n",
       "      <th>3</th>\n",
       "      <td>Added sugars</td>\n",
       "      <td>Sugars added to foods that can lead to weight ...</td>\n",
       "    </tr>\n",
       "    <tr>\n",
       "      <th>4</th>\n",
       "      <td>Omega-3 fatty acids</td>\n",
       "      <td>Healthy fats found in fish and flaxseeds that ...</td>\n",
       "    </tr>\n",
       "  </tbody>\n",
       "</table>\n",
       "</div>"
      ],
      "text/plain": [
       "                  term                          plain_english_description\n",
       "0         Whole grains  Foods like brown rice and oats that support he...\n",
       "1        Saturated fat  Type of fat that raises cholesterol and increa...\n",
       "2     Leafy vegetables  Vegetables like spinach and kale that are rich...\n",
       "3         Added sugars  Sugars added to foods that can lead to weight ...\n",
       "4  Omega-3 fatty acids  Healthy fats found in fish and flaxseeds that ..."
      ]
     },
     "execution_count": 16,
     "metadata": {},
     "output_type": "execute_result"
    }
   ],
   "source": [
    "glossary_df.head()"
   ]
  },
  {
   "cell_type": "code",
   "execution_count": 17,
   "id": "6d76f7c7",
   "metadata": {},
   "outputs": [
    {
     "data": {
      "text/html": [
       "<div>\n",
       "<style scoped>\n",
       "    .dataframe tbody tr th:only-of-type {\n",
       "        vertical-align: middle;\n",
       "    }\n",
       "\n",
       "    .dataframe tbody tr th {\n",
       "        vertical-align: top;\n",
       "    }\n",
       "\n",
       "    .dataframe thead th {\n",
       "        text-align: right;\n",
       "    }\n",
       "</style>\n",
       "<table border=\"1\" class=\"dataframe\">\n",
       "  <thead>\n",
       "    <tr style=\"text-align: right;\">\n",
       "      <th></th>\n",
       "      <th>sentence</th>\n",
       "      <th>category</th>\n",
       "    </tr>\n",
       "  </thead>\n",
       "  <tbody>\n",
       "    <tr>\n",
       "      <th>count</th>\n",
       "      <td>50</td>\n",
       "      <td>50</td>\n",
       "    </tr>\n",
       "    <tr>\n",
       "      <th>unique</th>\n",
       "      <td>50</td>\n",
       "      <td>5</td>\n",
       "    </tr>\n",
       "    <tr>\n",
       "      <th>top</th>\n",
       "      <td>Include more whole grains and legumes in your ...</td>\n",
       "      <td>diet</td>\n",
       "    </tr>\n",
       "    <tr>\n",
       "      <th>freq</th>\n",
       "      <td>1</td>\n",
       "      <td>10</td>\n",
       "    </tr>\n",
       "  </tbody>\n",
       "</table>\n",
       "</div>"
      ],
      "text/plain": [
       "                                                 sentence category\n",
       "count                                                  50       50\n",
       "unique                                                 50        5\n",
       "top     Include more whole grains and legumes in your ...     diet\n",
       "freq                                                    1       10"
      ]
     },
     "execution_count": 17,
     "metadata": {},
     "output_type": "execute_result"
    }
   ],
   "source": [
    "samples_df.describe()"
   ]
  },
  {
   "cell_type": "code",
   "execution_count": 18,
   "id": "da7dac2f",
   "metadata": {},
   "outputs": [
    {
     "data": {
      "text/html": [
       "<div>\n",
       "<style scoped>\n",
       "    .dataframe tbody tr th:only-of-type {\n",
       "        vertical-align: middle;\n",
       "    }\n",
       "\n",
       "    .dataframe tbody tr th {\n",
       "        vertical-align: top;\n",
       "    }\n",
       "\n",
       "    .dataframe thead th {\n",
       "        text-align: right;\n",
       "    }\n",
       "</style>\n",
       "<table border=\"1\" class=\"dataframe\">\n",
       "  <thead>\n",
       "    <tr style=\"text-align: right;\">\n",
       "      <th></th>\n",
       "      <th>term</th>\n",
       "      <th>plain_english_description</th>\n",
       "    </tr>\n",
       "  </thead>\n",
       "  <tbody>\n",
       "    <tr>\n",
       "      <th>count</th>\n",
       "      <td>39</td>\n",
       "      <td>39</td>\n",
       "    </tr>\n",
       "    <tr>\n",
       "      <th>unique</th>\n",
       "      <td>39</td>\n",
       "      <td>39</td>\n",
       "    </tr>\n",
       "    <tr>\n",
       "      <th>top</th>\n",
       "      <td>Whole grains</td>\n",
       "      <td>Foods like brown rice and oats that support he...</td>\n",
       "    </tr>\n",
       "    <tr>\n",
       "      <th>freq</th>\n",
       "      <td>1</td>\n",
       "      <td>1</td>\n",
       "    </tr>\n",
       "  </tbody>\n",
       "</table>\n",
       "</div>"
      ],
      "text/plain": [
       "                term                          plain_english_description\n",
       "count             39                                                 39\n",
       "unique            39                                                 39\n",
       "top     Whole grains  Foods like brown rice and oats that support he...\n",
       "freq               1                                                  1"
      ]
     },
     "execution_count": 18,
     "metadata": {},
     "output_type": "execute_result"
    }
   ],
   "source": [
    "glossary_df.describe()"
   ]
  },
  {
   "cell_type": "code",
   "execution_count": 20,
   "id": "941d82b0",
   "metadata": {},
   "outputs": [
    {
     "name": "stdout",
     "output_type": "stream",
     "text": [
      "Samples nulls:\n",
      " sentence    0\n",
      "category    0\n",
      "dtype: int64\n",
      "Glossary nulls:\n",
      " term                         0\n",
      "plain_english_description    0\n",
      "dtype: int64\n",
      "Duplicate sentences: 0\n",
      "Duplicate glossary terms: 0\n"
     ]
    }
   ],
   "source": [
    "print(\"Samples nulls:\\n\", samples_df.isnull().sum())\n",
    "print(\"Glossary nulls:\\n\", glossary_df.isnull().sum())\n",
    "\n",
    "print(\"Duplicate sentences:\", samples_df.duplicated().sum())\n",
    "print(\"Duplicate glossary terms:\", glossary_df.duplicated().sum())\n"
   ]
  },
  {
   "cell_type": "markdown",
   "id": "210bfab4",
   "metadata": {},
   "source": [
    "#### Dataset Summary"
   ]
  },
  {
   "cell_type": "code",
   "execution_count": 21,
   "id": "bf539f02",
   "metadata": {},
   "outputs": [
    {
     "name": "stdout",
     "output_type": "stream",
     "text": [
      "<class 'pandas.core.frame.DataFrame'>\n",
      "RangeIndex: 50 entries, 0 to 49\n",
      "Data columns (total 2 columns):\n",
      " #   Column    Non-Null Count  Dtype \n",
      "---  ------    --------------  ----- \n",
      " 0   sentence  50 non-null     object\n",
      " 1   category  50 non-null     object\n",
      "dtypes: object(2)\n",
      "memory usage: 932.0+ bytes\n"
     ]
    },
    {
     "data": {
      "text/plain": [
       "count    50.000000\n",
       "mean     45.080000\n",
       "std       6.442334\n",
       "min      33.000000\n",
       "25%      41.000000\n",
       "50%      44.000000\n",
       "75%      49.000000\n",
       "max      61.000000\n",
       "Name: sentence, dtype: float64"
      ]
     },
     "execution_count": 21,
     "metadata": {},
     "output_type": "execute_result"
    }
   ],
   "source": [
    "samples_df.info()\n",
    "samples_df['category'].value_counts()\n",
    "samples_df['sentence'].str.len().describe()"
   ]
  },
  {
   "cell_type": "markdown",
   "id": "f265c4ff",
   "metadata": {},
   "source": [
    "#### Label Distribution"
   ]
  },
  {
   "cell_type": "code",
   "execution_count": 24,
   "id": "0c42a584",
   "metadata": {},
   "outputs": [
    {
     "data": {
      "image/png": "[encoded data removed]",
      "text/plain": [
       "<Figure size 640x480 with 1 Axes>"
      ]
     },
     "metadata": {},
     "output_type": "display_data"
    },
    {
     "data": {
      "text/plain": [
       "<Figure size 640x480 with 0 Axes>"
      ]
     },
     "metadata": {},
     "output_type": "display_data"
    }
   ],
   "source": [
    "import matplotlib.pyplot as plt\n",
    "\n",
    "samples_df['category'].value_counts().plot(kind='bar', title='Category Distribution')\n",
    "plt.ylabel('Frequency')\n",
    "plt.show()\n",
    "plt.savefig('../visualizations/category_distribution.png')\n"
   ]
  },
  {
   "cell_type": "code",
   "execution_count": null,
   "id": "b743189d",
   "metadata": {},
   "outputs": [],
   "source": []
  }
 ],
 "metadata": {
  "kernelspec": {
   "display_name": "Python 3",
   "language": "python",
   "name": "python3"
  },
  "language_info": {
   "codemirror_mode": {
    "name": "ipython",
    "version": 3
   },
   "file_extension": ".py",
   "mimetype": "text/x-python",
   "name": "python",
   "nbconvert_exporter": "python",
   "pygments_lexer": "ipython3",
   "version": "3.12.3"
  }
 },
 "nbformat": 4,
 "nbformat_minor": 5
}
