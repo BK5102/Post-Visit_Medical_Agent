{
 "cells": [
  {
   "cell_type": "markdown",
   "id": "b6c27a7a",
   "metadata": {},
   "source": [
    "Test the full flow from raw input → API call"
   ]
  },
  {
   "cell_type": "markdown",
   "id": "f320baad",
   "metadata": {},
   "source": []
  }
 ],
 "metadata": {
  "language_info": {
   "name": "python"
  }
 },
 "nbformat": 4,
 "nbformat_minor": 5
}
