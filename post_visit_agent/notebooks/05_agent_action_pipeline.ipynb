{
 "cells": [
  {
   "cell_type": "markdown",
   "id": "b6c27a7a",
   "metadata": {},
   "source": [
    "# End-to-end agent workflow"
   ]
  }
 ],
 "metadata": {
  "language_info": {
   "name": "python"
  }
 },
 "nbformat": 4,
 "nbformat_minor": 5
}
