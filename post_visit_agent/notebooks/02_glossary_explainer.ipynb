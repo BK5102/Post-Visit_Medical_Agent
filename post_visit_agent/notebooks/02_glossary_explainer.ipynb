{
 "cells": [
  {
   "cell_type": "markdown",
   "id": "eb683611",
   "metadata": {},
   "source": [
    "#### Use glossary.csv to replace or explain terms"
   ]
  },
  {
   "cell_type": "markdown",
   "id": "59273136",
   "metadata": {},
   "source": [
    "##### identifies medical/diet/therapy terms in a sentence and replaces them or appends their plain-English meanings"
   ]
  },
  {
   "cell_type": "code",
   "execution_count": 15,
   "id": "ceffaf90",
   "metadata": {},
   "outputs": [],
   "source": [
    "import pandas as pd\n",
    "import numpy as np\n",
    "import matplotlib.pyplot as plt\n",
    "import sys \n",
    "import os\n",
    "#from notebooks import glossary"
   ]
  },
  {
   "cell_type": "code",
   "execution_count": 16,
   "id": "37140bf7",
   "metadata": {},
   "outputs": [],
   "source": [
    "sys.path.append(os.path.abspath(\"../src\"))"
   ]
  },
  {
   "cell_type": "code",
   "execution_count": 17,
   "id": "8285c333",
   "metadata": {},
   "outputs": [],
   "source": [
    "from glossary import explain_terms"
   ]
  },
  {
   "cell_type": "code",
   "execution_count": 11,
   "id": "5af9fb60",
   "metadata": {},
   "outputs": [
    {
     "data": {
      "text/html": [
       "<div>\n",
       "<style scoped>\n",
       "    .dataframe tbody tr th:only-of-type {\n",
       "        vertical-align: middle;\n",
       "    }\n",
       "\n",
       "    .dataframe tbody tr th {\n",
       "        vertical-align: top;\n",
       "    }\n",
       "\n",
       "    .dataframe thead th {\n",
       "        text-align: right;\n",
       "    }\n",
       "</style>\n",
       "<table border=\"1\" class=\"dataframe\">\n",
       "  <thead>\n",
       "    <tr style=\"text-align: right;\">\n",
       "      <th></th>\n",
       "      <th>term</th>\n",
       "      <th>plain_english_description</th>\n",
       "    </tr>\n",
       "  </thead>\n",
       "  <tbody>\n",
       "    <tr>\n",
       "      <th>0</th>\n",
       "      <td>Whole grains</td>\n",
       "      <td>Foods like brown rice and oats that support he...</td>\n",
       "    </tr>\n",
       "    <tr>\n",
       "      <th>1</th>\n",
       "      <td>Saturated fat</td>\n",
       "      <td>Type of fat that raises cholesterol and increa...</td>\n",
       "    </tr>\n",
       "    <tr>\n",
       "      <th>2</th>\n",
       "      <td>Leafy vegetables</td>\n",
       "      <td>Vegetables like spinach and kale that are rich...</td>\n",
       "    </tr>\n",
       "    <tr>\n",
       "      <th>3</th>\n",
       "      <td>Added sugars</td>\n",
       "      <td>Sugars added to foods that can lead to weight ...</td>\n",
       "    </tr>\n",
       "    <tr>\n",
       "      <th>4</th>\n",
       "      <td>Omega-3 fatty acids</td>\n",
       "      <td>Healthy fats found in fish and flaxseeds that ...</td>\n",
       "    </tr>\n",
       "  </tbody>\n",
       "</table>\n",
       "</div>"
      ],
      "text/plain": [
       "                  term                          plain_english_description\n",
       "0         Whole grains  Foods like brown rice and oats that support he...\n",
       "1        Saturated fat  Type of fat that raises cholesterol and increa...\n",
       "2     Leafy vegetables  Vegetables like spinach and kale that are rich...\n",
       "3         Added sugars  Sugars added to foods that can lead to weight ...\n",
       "4  Omega-3 fatty acids  Healthy fats found in fish and flaxseeds that ..."
      ]
     },
     "execution_count": 11,
     "metadata": {},
     "output_type": "execute_result"
    }
   ],
   "source": [
    "glossary_df = pd.read_csv(\"../data/glossary.csv\")\n",
    "glossary_df.head()"
   ]
  },
  {
   "cell_type": "markdown",
   "id": "0cfad259",
   "metadata": {},
   "source": [
    "##### Data Preprocessing: normalize terms"
   ]
  },
  {
   "cell_type": "code",
   "execution_count": 12,
   "id": "1629cfb4",
   "metadata": {},
   "outputs": [],
   "source": [
    "glossary_df['term'] = glossary_df['term'].str.lower().str.strip()\n"
   ]
  },
  {
   "cell_type": "markdown",
   "id": "66f6360c",
   "metadata": {},
   "source": [
    "##### Dictionary to map term and description"
   ]
  },
  {
   "cell_type": "code",
   "execution_count": 13,
   "id": "51f08b2a",
   "metadata": {},
   "outputs": [],
   "source": [
    "glossary_dict = dict(zip(glossary_df['term'], glossary_df['plain_english_description']))"
   ]
  },
  {
   "cell_type": "markdown",
   "id": "c7cfa788",
   "metadata": {},
   "source": [
    "##### Dictionary tested on samples_labeled "
   ]
  },
  {
   "cell_type": "code",
   "execution_count": 18,
   "id": "edc66754",
   "metadata": {},
   "outputs": [
    {
     "data": {
      "text/html": [
       "<div>\n",
       "<style scoped>\n",
       "    .dataframe tbody tr th:only-of-type {\n",
       "        vertical-align: middle;\n",
       "    }\n",
       "\n",
       "    .dataframe tbody tr th {\n",
       "        vertical-align: top;\n",
       "    }\n",
       "\n",
       "    .dataframe thead th {\n",
       "        text-align: right;\n",
       "    }\n",
       "</style>\n",
       "<table border=\"1\" class=\"dataframe\">\n",
       "  <thead>\n",
       "    <tr style=\"text-align: right;\">\n",
       "      <th></th>\n",
       "      <th>sentence</th>\n",
       "      <th>explained</th>\n",
       "    </tr>\n",
       "  </thead>\n",
       "  <tbody>\n",
       "    <tr>\n",
       "      <th>0</th>\n",
       "      <td>Include more whole grains and legumes in your ...</td>\n",
       "      <td>Include more whole grains (Foods like brown ri...</td>\n",
       "    </tr>\n",
       "    <tr>\n",
       "      <th>1</th>\n",
       "      <td>Avoid sugary snacks and processed desserts</td>\n",
       "      <td>Avoid sugary snacks and processed desserts</td>\n",
       "    </tr>\n",
       "    <tr>\n",
       "      <th>2</th>\n",
       "      <td>Eat green leafy vegetables daily to reduce cho...</td>\n",
       "      <td>Eat green leafy vegetables (Vegetables like sp...</td>\n",
       "    </tr>\n",
       "    <tr>\n",
       "      <th>3</th>\n",
       "      <td>Reduce salt and saturated fat intake</td>\n",
       "      <td>Reduce salt and saturated fat (Type of fat tha...</td>\n",
       "    </tr>\n",
       "    <tr>\n",
       "      <th>4</th>\n",
       "      <td>Add omega-3 rich foods like flaxseed to your diet</td>\n",
       "      <td>Add omega-3 rich foods like flaxseed to your diet</td>\n",
       "    </tr>\n",
       "  </tbody>\n",
       "</table>\n",
       "</div>"
      ],
      "text/plain": [
       "                                            sentence  \\\n",
       "0  Include more whole grains and legumes in your ...   \n",
       "1         Avoid sugary snacks and processed desserts   \n",
       "2  Eat green leafy vegetables daily to reduce cho...   \n",
       "3               Reduce salt and saturated fat intake   \n",
       "4  Add omega-3 rich foods like flaxseed to your diet   \n",
       "\n",
       "                                           explained  \n",
       "0  Include more whole grains (Foods like brown ri...  \n",
       "1         Avoid sugary snacks and processed desserts  \n",
       "2  Eat green leafy vegetables (Vegetables like sp...  \n",
       "3  Reduce salt and saturated fat (Type of fat tha...  \n",
       "4  Add omega-3 rich foods like flaxseed to your diet  "
      ]
     },
     "execution_count": 18,
     "metadata": {},
     "output_type": "execute_result"
    }
   ],
   "source": [
    "samples_df = pd.read_csv(\"../data/samples_labeled.csv\")\n",
    "\n",
    "samples_df['explained'] = samples_df['sentence'].apply(lambda x: explain_terms(x, glossary_dict))\n",
    "samples_df[['sentence', 'explained']].head()\n"
   ]
  },
  {
   "cell_type": "code",
   "execution_count": 19,
   "id": "156a975b",
   "metadata": {},
   "outputs": [],
   "source": [
    "samples_df.to_json(\"../outputs/explained_notes.json\", orient=\"records\", indent=2)\n"
   ]
  }
 ],
 "metadata": {
  "kernelspec": {
   "display_name": "Python 3",
   "language": "python",
   "name": "python3"
  },
  "language_info": {
   "codemirror_mode": {
    "name": "ipython",
    "version": 3
   },
   "file_extension": ".py",
   "mimetype": "text/x-python",
   "name": "python",
   "nbconvert_exporter": "python",
   "pygments_lexer": "ipython3",
   "version": "3.12.3"
  }
 },
 "nbformat": 4,
 "nbformat_minor": 5
}
