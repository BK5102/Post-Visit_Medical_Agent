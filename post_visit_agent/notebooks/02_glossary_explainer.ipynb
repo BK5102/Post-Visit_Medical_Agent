{
 "cells": [
  {
   "cell_type": "markdown",
   "id": "eb683611",
   "metadata": {},
   "source": [
    "#### Use glossary.csv to replace or explain terms"
   ]
  },
  {
   "cell_type": "markdown",
   "id": "59273136",
   "metadata": {},
   "source": [
    "##### identifies medical/diet/therapy terms in a sentence and replaces them or appends their plain-English meanings"
   ]
  },
  {
   "cell_type": "code",
   "execution_count": null,
   "id": "ceffaf90",
   "metadata": {},
   "outputs": [
    {
     "ename": "ImportError",
     "evalue": "attempted relative import with no known parent package",
     "output_type": "error",
     "traceback": [
      "\u001b[1;31m---------------------------------------------------------------------------\u001b[0m",
      "\u001b[1;31mImportError\u001b[0m                               Traceback (most recent call last)",
      "Cell \u001b[1;32mIn[9], line 4\u001b[0m\n\u001b[0;32m      2\u001b[0m \u001b[38;5;28;01mimport\u001b[39;00m \u001b[38;5;21;01mnumpy\u001b[39;00m \u001b[38;5;28;01mas\u001b[39;00m \u001b[38;5;21;01mnp\u001b[39;00m\n\u001b[0;32m      3\u001b[0m \u001b[38;5;28;01mimport\u001b[39;00m \u001b[38;5;21;01mmatplotlib\u001b[39;00m\u001b[38;5;21;01m.\u001b[39;00m\u001b[38;5;21;01mpyplot\u001b[39;00m \u001b[38;5;28;01mas\u001b[39;00m \u001b[38;5;21;01mplt\u001b[39;00m\n\u001b[1;32m----> 4\u001b[0m \u001b[38;5;28;01mfrom\u001b[39;00m \u001b[38;5;21;01m.\u001b[39;00m\u001b[38;5;21;01m.\u001b[39;00m\u001b[38;5;21;01mnotebooks\u001b[39;00m \u001b[38;5;28;01mimport\u001b[39;00m glossary\n",
      "\u001b[1;31mImportError\u001b[0m: attempted relative import with no known parent package"
     ]
    }
   ],
   "source": [
    "import pandas as pd\n",
    "import numpy as np\n",
    "import matplotlib.pyplot as plt\n",
    "from notebooks import glossary"
   ]
  },
  {
   "cell_type": "code",
   "execution_count": null,
   "id": "5af9fb60",
   "metadata": {},
   "outputs": [],
   "source": [
    "glossary_df = pd.read_csv(\"../data/glossary.csv\")\n",
    "glossary_df.head()"
   ]
  },
  {
   "cell_type": "markdown",
   "id": "0cfad259",
   "metadata": {},
   "source": [
    "##### Data Preprocessing: normalize terms"
   ]
  },
  {
   "cell_type": "code",
   "execution_count": null,
   "id": "1629cfb4",
   "metadata": {},
   "outputs": [],
   "source": [
    "glossary_df['term'] = glossary_df['term'].str.lower().str.strip()\n"
   ]
  },
  {
   "cell_type": "markdown",
   "id": "66f6360c",
   "metadata": {},
   "source": [
    "##### Dictionary to map term and description"
   ]
  },
  {
   "cell_type": "code",
   "execution_count": null,
   "id": "51f08b2a",
   "metadata": {},
   "outputs": [],
   "source": [
    "glossary_dict = dict(zip(glossary_df['term'], glossary_df['plain_english_description']))"
   ]
  },
  {
   "cell_type": "markdown",
   "id": "c7cfa788",
   "metadata": {},
   "source": [
    "##### Dictionary tested on samples_labeled "
   ]
  },
  {
   "cell_type": "code",
   "execution_count": null,
   "id": "edc66754",
   "metadata": {},
   "outputs": [],
   "source": [
    "samples_df = pd.read_csv(\"../data/samples_labeled.csv\")\n",
    "\n",
    "samples_df['explained'] = samples_df['sentence'].apply(lambda x: glossary.explain_terms(x, glossary_dict))\n",
    "samples_df[['sentence', 'explained']].head()\n"
   ]
  },
  {
   "cell_type": "code",
   "execution_count": null,
   "id": "156a975b",
   "metadata": {},
   "outputs": [],
   "source": []
  }
 ],
 "metadata": {
  "kernelspec": {
   "display_name": "Python 3",
   "language": "python",
   "name": "python3"
  },
  "language_info": {
   "codemirror_mode": {
    "name": "ipython",
    "version": 3
   },
   "file_extension": ".py",
   "mimetype": "text/x-python",
   "name": "python",
   "nbconvert_exporter": "python",
   "pygments_lexer": "ipython3",
   "version": "3.12.3"
  }
 },
 "nbformat": 4,
 "nbformat_minor": 5
}
