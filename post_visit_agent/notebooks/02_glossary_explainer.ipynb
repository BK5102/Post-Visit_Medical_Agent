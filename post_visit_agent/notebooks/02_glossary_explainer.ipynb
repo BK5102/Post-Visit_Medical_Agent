{
 "cells": [
  {
   "cell_type": "markdown",
   "id": "eb683611",
   "metadata": {},
   "source": [
    "Use glossary.csv to replace or explain terms"
   ]
  },
  {
   "cell_type": "markdown",
   "id": "c6a825e5",
   "metadata": {},
   "source": []
  }
 ],
 "metadata": {
  "language_info": {
   "name": "python"
  }
 },
 "nbformat": 4,
 "nbformat_minor": 5
}
