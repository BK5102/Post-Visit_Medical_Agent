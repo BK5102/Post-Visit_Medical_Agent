{
 "cells": [
  {
   "cell_type": "markdown",
   "id": "b6d67910",
   "metadata": {},
   "source": [
    "Use GPT/LLM to extract info"
   ]
  },
  {
   "cell_type": "markdown",
   "id": "5fd43fcc",
   "metadata": {},
   "source": []
  }
 ],
 "metadata": {
  "language_info": {
   "name": "python"
  }
 },
 "nbformat": 4,
 "nbformat_minor": 5
}
