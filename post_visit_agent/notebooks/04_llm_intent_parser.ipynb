{
 "cells": [
  {
   "cell_type": "markdown",
   "id": "b6d67910",
   "metadata": {},
   "source": [
    "#### LLM powered agent pipeline "
   ]
  },
  {
   "cell_type": "markdown",
   "id": "0652923c",
   "metadata": {},
   "source": [
    "##### Use GPT/LLM to extract information"
   ]
  },
  {
   "cell_type": "markdown",
   "id": "5fd43fcc",
   "metadata": {},
   "source": []
  }
 ],
 "metadata": {
  "language_info": {
   "name": "python"
  }
 },
 "nbformat": 4,
 "nbformat_minor": 5
}
